{
 "cells": [
  {
   "cell_type": "code",
   "execution_count": 123,
   "metadata": {},
   "outputs": [],
   "source": [
    "import os\n",
    "import numpy as np\n",
    "import pandas as pd\n",
    "\n",
    "cpu_df = pd.read_csv(\"./data/cpu.csv\")\n",
    "cooler_df = pd.read_csv(\"./data/cpu-cooler.csv\")\n",
    "storage_df = pd.read_csv(\"./data/internal-hard-drive.csv\")\n",
    "memory_df = pd.read_csv(\"./data/memory.csv\")\n",
    "motherboard_df = pd.read_csv(\"./data/motherboard.csv\")"
   ]
  },
  {
   "cell_type": "code",
   "execution_count": 124,
   "metadata": {},
   "outputs": [],
   "source": [
    "def take_average(l, suffix):\n",
    "    for i in range(len(l)):\n",
    "        entry = l[i]\n",
    "        try:\n",
    "            noises = entry.split(\"-\")\n",
    "            if len(noises) == 1:\n",
    "                l[i] = noises[0].removesuffix(suffix)\n",
    "            else:\n",
    "                noises[-1] = noises[-1].removesuffix(suffix)\n",
    "                noises = list(map(str.strip, noises))\n",
    "                noises = list(map(float, noises))\n",
    "                l[i] = round(np.average(np.array(noises)), 3)\n",
    "        except: \n",
    "            continue\n",
    "\n",
    "    return l\n",
    "\n",
    "def capacity_to_gb(l):\n",
    "    for i in range(len(l)):\n",
    "        entry = l[i]\n",
    "        if entry.endswith(\"TB\"):\n",
    "            l[i] = float(entry.removesuffix(\" TB\")) * 1000\n",
    "        elif entry.endswith(\"GB\"):\n",
    "            l[i] = float(entry.removesuffix(\" GB\"))\n",
    "\n",
    "    return l\n",
    "\n",
    "def process_modules(l):\n",
    "    counts = []\n",
    "    gbs = []\n",
    "    totals = []\n",
    "    for i in range(len(l)):\n",
    "        entry = l[i].split(\"x\")\n",
    "        count = int(entry[0].strip())\n",
    "        gb = entry[1].strip()\n",
    "        if gb.endswith(\"MB\"):\n",
    "            gb = int(gb.removesuffix(\"MB\"))*1000\n",
    "        else:\n",
    "            gb = int(gb.removesuffix(\"GB\"))\n",
    "        total = count * gb \n",
    "\n",
    "        counts.append(count)\n",
    "        gbs.append(gb)\n",
    "        totals.append(total)\n",
    "\n",
    "    return counts, gbs, totals"
   ]
  },
  {
   "cell_type": "code",
   "execution_count": 127,
   "metadata": {},
   "outputs": [],
   "source": [
    "# CPU preprocessing \n",
    "cpu_df[\"price\"] = cpu_df[\"price\"].str.removeprefix(\"$\")\n",
    "cpu_df[\"performance_core_clock\"] = cpu_df[\"performance_core_clock\"].str.removesuffix(\" GHz\")\n",
    "cpu_df[\"performance_core_boost_clock\"] = cpu_df[\"performance_core_boost_clock\"].str.removesuffix(\" GHz\")\n",
    "cpu_df[\"tdp\"] = cpu_df[\"tdp\"].str.removesuffix(\" W\")\n",
    "\n",
    "# cooler preprocessing\n",
    "cooler_df[\"price\"] = cooler_df[\"price\"].str.removeprefix(\"$\")\n",
    "cooler_df[\"average_noise_level\"] = take_average(list(cooler_df[\"noise_level\"]), \" dB\")\n",
    "cooler_df[\"average_fan_rpm\"] = take_average(list(cooler_df[\"fan_rpm\"]), \" mm\")\n",
    "cooler_df[\"radiator_size\"] = cooler_df[\"radiator_size\"].str.removesuffix(\" mm\")\n",
    "\n",
    "# storage preprocessing \n",
    "storage_df[\"price\"] = storage_df[\"price\"].str.removeprefix(\"$\")\n",
    "storage_df[\"capacity_gb\"] = capacity_to_gb(list(storage_df[\"capacity\"]))\n",
    "storage_df[\"price_per_gb\"] = storage_df[\"price_per_gb\"].str.removeprefix(\"$\")\n",
    "\n",
    "# memory preprocessing\n",
    "memory_df[\"price\"] = memory_df[\"price\"].str.removeprefix(\"$\")\n",
    "memory_df[\"module_count\"], memory_df[\"gb_per_module\"], memory_df[\"total_ram\"] = process_modules(list(memory_df[\"modules\"]))\n",
    "memory_df[\"price_per_gb\"] = memory_df[\"price_per_gb\"].str.removeprefix(\"$\")\n",
    "memory_df[\"first_word_latency\"] = memory_df[\"first_word_latency\"].str.removeprefix(\" ns\")\n",
    "\n",
    "# motherboard preprocessing \n",
    "motherboard_df[\"price\"] = motherboard_df[\"price\"].str.removeprefix(\"$\")\n",
    "motherboard_df[\"max_memory_gb\"] = capacity_to_gb(list(motherboard_df[\"max_memory\"]))"
   ]
  },
  {
   "cell_type": "code",
   "execution_count": 129,
   "metadata": {},
   "outputs": [],
   "source": [
    "cpu_df.to_csv('./clean_data/cpu.csv')\n",
    "cooler_df.to_csv('./clean_data/cooler.csv')\n",
    "storage_df.to_csv('./clean_data/storage.csv')\n",
    "memory_df.to_csv('./clean_data/memory.csv')\n",
    "motherboard_df.to_csv('./clean_data/motherboard.csv')"
   ]
  }
 ],
 "metadata": {
  "kernelspec": {
   "display_name": "base",
   "language": "python",
   "name": "python3"
  },
  "language_info": {
   "codemirror_mode": {
    "name": "ipython",
    "version": 3
   },
   "file_extension": ".py",
   "mimetype": "text/x-python",
   "name": "python",
   "nbconvert_exporter": "python",
   "pygments_lexer": "ipython3",
   "version": "3.11.8"
  }
 },
 "nbformat": 4,
 "nbformat_minor": 2
}
