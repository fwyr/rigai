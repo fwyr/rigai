{
 "cells": [
  {
   "cell_type": "code",
   "execution_count": 44,
   "metadata": {},
   "outputs": [
    {
     "name": "stdout",
     "output_type": "stream",
     "text": [
      "Groq client initialised.\n"
     ]
    }
   ],
   "source": [
    "# main libraries\n",
    "import os\n",
    "import json\n",
    "import numpy as np\n",
    "import pandas as pd\n",
    "from dotenv import load_dotenv\n",
    "from groq import Groq\n",
    "\n",
    "# typing and classes\n",
    "import instructor\n",
    "from pydantic import BaseModel, Field\n",
    "from typing import Optional, Literal, List\n",
    "from enum import Enum \n",
    "\n",
    "# constants\n",
    "load_dotenv(\"../.env\")\n",
    "GROQ_KEY = os.getenv(\"GROQ_KEY\")\n",
    "MODEL = \"llama3-70b-8192\"\n",
    "\n",
    "# initialisation of model\n",
    "client = Groq(api_key=GROQ_KEY)\n",
    "client = instructor.from_groq(client, mode=instructor.Mode.JSON)\n",
    "print(\"Groq client initialised.\")"
   ]
  },
  {
   "cell_type": "code",
   "execution_count": 45,
   "metadata": {},
   "outputs": [],
   "source": [
    "'''\n",
    "Enumerations needed:\n",
    "- CPU (microarchitectures, integrated_graphics)\n",
    "- Cooler (color)\n",
    "- Internal Hard Drive (type, form_factor, interface)\n",
    "- Memory (color)\n",
    "- Motherboard (cpu_socket, form_factor, colour)\n",
    "'''\n",
    "\n",
    "def create_enum_from_list(enum_name: str, values: list):\n",
    "    enum_dict = {v.lower().replace(\" \", \"_\").replace(\"+\", \"plus\").replace(\"-\", \"_\"): v for v in values}\n",
    "    return Enum(enum_name, enum_dict)\n",
    "\n",
    "cpu_df = pd.read_csv(\"../scraper/clean_data/cpu.csv\")\n",
    "cooler_df = pd.read_csv(\"../scraper/clean_data/cooler.csv\")\n",
    "storage_df = pd.read_csv(\"../scraper/clean_data/storage.csv\")\n",
    "memory_df = pd.read_csv(\"../scraper/clean_data/memory.csv\")\n",
    "motherboard_df = pd.read_csv(\"../scraper/clean_data/motherboard.csv\")\n",
    "\n",
    "CPU_MICROARCHITECTURES = sorted(cpu_df['microarchitecture'].dropna().unique().tolist())\n",
    "CPU_GRAPHICS = sorted(cpu_df['integrated_graphics'].dropna().unique().tolist())\n",
    "COOLER_COLOURS = sorted(cooler_df['color'].dropna().unique().tolist())\n",
    "STORAGE_TYPES = sorted(storage_df['type'].dropna().unique().tolist())\n",
    "STORAGE_FORM_FACTORS = sorted(storage_df['form_factor'].dropna().unique().tolist())\n",
    "STORAGE_INTERFACES = sorted(storage_df['interface'].dropna().unique().tolist())\n",
    "MEMORY_COLOURS = sorted(memory_df['color'].dropna().unique().tolist())\n",
    "MOTHERBOARD_SOCKETS = sorted(motherboard_df['cpu_socket'].dropna().unique().tolist())\n",
    "MOTHERBOARD_FORM_FACTORS = sorted(motherboard_df['form_factor'].dropna().unique().tolist())\n",
    "MOTHERBOARD_COLOURS = sorted(motherboard_df['color'].dropna().unique().tolist())\n",
    "\n",
    "# further processing\n",
    "def get_colours(colour_array: List) -> List:\n",
    "    l = [list(map(str.strip, entry.split('/'))) for entry in colour_array]\n",
    "    l = list(set(np.hstack([x for x in l])))\n",
    "    return l\n",
    "\n",
    "COOLER_COLOURS = get_colours(COOLER_COLOURS)\n",
    "MEMORY_COLOURS = get_colours(MEMORY_COLOURS)\n",
    "MOTHERBOARD_COLOURS = get_colours(MOTHERBOARD_COLOURS)\n",
    "\n",
    "Microarchitecture = create_enum_from_list(\"microarchitecture\", CPU_MICROARCHITECTURES)\n",
    "IntegratedGraphics = create_enum_from_list(\"IntegratedGraphics\", CPU_GRAPHICS)\n",
    "CoolerColour = create_enum_from_list(\"cooler_colour\", COOLER_COLOURS)\n",
    "StorageType = create_enum_from_list(\"storage_type\", STORAGE_TYPES)\n",
    "StorageFormFactor = create_enum_from_list(\"storage_form_factor\", STORAGE_FORM_FACTORS)\n",
    "StorageInterface = create_enum_from_list(\"storage_interface\", STORAGE_INTERFACES)\n",
    "MemoryColour = create_enum_from_list(\"memory_colour\", MEMORY_COLOURS)\n",
    "MotherboardSocket = create_enum_from_list(\"motherboard_socket\", MOTHERBOARD_SOCKETS)\n",
    "MotherboardFormFactor = create_enum_from_list(\"motherboard_form_factor\", MOTHERBOARD_FORM_FACTORS)\n",
    "MotherboardColour = create_enum_from_list(\"motherboard_clour\", MOTHERBOARD_COLOURS)"
   ]
  },
  {
   "cell_type": "code",
   "execution_count": 46,
   "metadata": {},
   "outputs": [],
   "source": [
    "class CPURequirements(BaseModel):\n",
    "    min_cores: Optional[int] = Field(None, description=\"Minimum number of CPU cores desired\")\n",
    "    min_core_clock_ghz: Optional[float] = Field(None, description=\"Minimum core clock speed (in GHz)\")\n",
    "    min_boost_clock_ghz: Optional[float] = Field(None, description=\"Minimum boost clock speed (in GHz)\")\n",
    "    microarchitecture: Optional[List[Microarchitecture]] = Field(None, description=\"Preferred CPU microarchitecture, e.g., ['Zen 4', 'Raptor Lake'])\")\n",
    "    max_tdp_watts: Optional[int] = Field(None, description=\"Maximum thermal design power (in watts)\")\n",
    "    #needs_integrated_graphics: Optional[bool] = Field(None, description=\"Whether integrated graphics are required\")\n",
    "    #min_rating: Optional[float] = Field(None, description=\"Minimum user rating (out of 5)\")\n",
    "    max_price: Optional[float] = Field(None, description=\"Maximum budget for CPU (in USD)\")\n",
    "\n",
    "class CoolerRequirements(BaseModel):\n",
    "    min_fan_rpm: Optional[int] = Field(None, description=\"Minimum fan RPM for cooling performance\")\n",
    "    max_noise_level_db: Optional[float] = Field(None, description=\"Desired maximum noise level in decibels\")\n",
    "    radiator_size_mm: Optional[int] = Field(None, description=\"Preferred radiator size in mm (e.g. 240, 360)\")\n",
    "    preferred_color: Optional[List[CoolerColour]] = Field(None, description=\"Preferred cooler colors\")\n",
    "    #min_rating: Optional[float] = Field(None, description=\"Minimum user rating (out of 5)\")\n",
    "    max_price: Optional[float] = Field(None, description=\"Maximum budget for cooler (in USD)\")\n",
    "\n",
    "class StorageRequirements(BaseModel):\n",
    "    min_capacity_gb: Optional[int] = Field(None, description=\"Minimum storage capacity in GB\")\n",
    "    preferred_type: Optional[List[StorageType]] = Field(None, description=\"Drive type (e.g. ['SSD', 'HDD'])\")\n",
    "    min_cache_mb: Optional[int] = Field(None, description=\"Minimum cache size in MB\")\n",
    "    preferred_form_factor: Optional[List[StorageFormFactor]] = Field(None, description=\"Preferred drive form factor (e.g. ['2.5', 'M.2'])\")\n",
    "    preferred_interface: Optional[List[StorageInterface]] = Field(None, description=\"Preferred interface (e.g. ['SATA, NVMe'])\")\n",
    "    #min_rating: Optional[float] = Field(None, description=\"Minimum user rating (out of 5)\")\n",
    "    max_price_per_gb: Optional[float] = Field(None, description=\"Maximum budget for drive for each gigabyte (in USD)\")\n",
    "\n",
    "class MemoryRequirements(BaseModel):\n",
    "    min_capacity_gb: Optional[int] = Field(None, description=\"Minimum total memory capacity in GB\")\n",
    "    min_speed_mhz: Optional[int] = Field(None, description=\"Minimum memory speed in MHz\")\n",
    "    preferred_module_count: Optional[int] = Field(None, description=\"Preferred number of modules (e.g. 2 for dual-channel)\")\n",
    "    max_cas_latency: Optional[float] = Field(None, description=\"Maximum acceptable CAS latency\")\n",
    "    preferred_color: Optional[List[MemoryColour]] = Field(None, description=\"Preferred memory colors\")\n",
    "    #min_rating: Optional[float] = Field(None, description=\"Minimum user rating (out of 5)\")\n",
    "    max_price_per_gb: Optional[float] = Field(None, description=\"Maximum budget for memory per gigabyte (in USD)\")\n",
    "\n",
    "class MotherboardRequirements(BaseModel):\n",
    "    preferred_socket: Optional[List[MotherboardSocket]] = Field(None, description=\"CPU socket type required (e.g. AM5, LGA1700)\")\n",
    "    preferred_form_factor: Optional[List[MotherboardFormFactor]] = Field(None, description=\"Motherboard form factor (e.g. ATX, Micro ATX)\")\n",
    "    min_max_memory_gb: Optional[int] = Field(None, description=\"Minimum supported max memory in GB\")\n",
    "    min_memory_slots: Optional[int] = Field(None, description=\"Minimum number of memory slots\")\n",
    "    preferred_color: Optional[List[MotherboardColour]] = Field(None, description=\"Preferred motherboard color\")\n",
    "    #min_rating: Optional[float] = Field(None, description=\"Minimum user rating (out of 5)\")\n",
    "    max_price: Optional[float] = Field(None, description=\"Maximum budget for case (in USD)\")\n",
    "\n",
    "class PCRequirements(BaseModel):\n",
    "    cpu: CPURequirements = Field(None, description=\"Details of preferred CPU\")\n",
    "    cpu_cooler: CoolerRequirements = Field(None, description=\"Details of preferred CPU cooler\")\n",
    "    storage: StorageRequirements = Field(None, description=\"Details of preferred internal hard drive for storage\")\n",
    "    memory: MemoryRequirements = Field(None, description=\"Details of preferred memory RAM\")\n",
    "    motherboard: MotherboardRequirements = Field(None, description=\"Details of preferred motherboard\")"
   ]
  },
  {
   "cell_type": "code",
   "execution_count": 47,
   "metadata": {},
   "outputs": [],
   "source": [
    "message = \"I want a decent PC rig that does things fast and has a lot of RAM!\"\n",
    "\n",
    "cpu_requirements = client.chat.completions.create(\n",
    "    model=MODEL,\n",
    "    response_model=CPURequirements,\n",
    "    messages=[\n",
    "        {\"role\": \"user\", \"content\": message}\n",
    "    ]\n",
    ").model_dump()\n",
    "\n",
    "cooler_requirements = client.chat.completions.create(\n",
    "    model=MODEL,\n",
    "    response_model=CoolerRequirements,\n",
    "    messages=[\n",
    "        {\"role\": \"user\", \"content\": message}\n",
    "    ]\n",
    ").model_dump()\n",
    "\n",
    "storage_requirements = client.chat.completions.create(\n",
    "    model=MODEL,\n",
    "    response_model=StorageRequirements,\n",
    "    messages=[\n",
    "        {\"role\": \"user\", \"content\": message}\n",
    "    ]\n",
    ").model_dump()\n",
    "\n",
    "memory_requirements = client.chat.completions.create(\n",
    "    model=MODEL,\n",
    "    response_model=MemoryRequirements,\n",
    "    messages=[\n",
    "        {\"role\": \"user\", \"content\": message}\n",
    "    ]\n",
    ").model_dump()\n",
    "\n",
    "motherboard_requirements = client.chat.completions.create(\n",
    "    model=MODEL,\n",
    "    response_model=MotherboardRequirements,\n",
    "    messages=[\n",
    "        {\"role\": \"user\", \"content\": message}\n",
    "    ]\n",
    ").model_dump()"
   ]
  },
  {
   "cell_type": "code",
   "execution_count": 48,
   "metadata": {},
   "outputs": [
    {
     "data": {
      "text/plain": [
       "{'min_cores': 4,\n",
       " 'min_core_clock_ghz': 3.0,\n",
       " 'min_boost_clock_ghz': 4.0,\n",
       " 'microarchitecture': [<microarchitecture.zen_4: 'Zen 4'>,\n",
       "  <microarchitecture.raptor_lake: 'Raptor Lake'>],\n",
       " 'max_tdp_watts': 125,\n",
       " 'needs_integrated_graphics': False,\n",
       " 'min_rating': 4.5,\n",
       " 'max_price': 800.0}"
      ]
     },
     "execution_count": 48,
     "metadata": {},
     "output_type": "execute_result"
    }
   ],
   "source": [
    "cpu_requirements"
   ]
  },
  {
   "cell_type": "code",
   "execution_count": 49,
   "metadata": {},
   "outputs": [
    {
     "data": {
      "text/plain": [
       "{'min_fan_rpm': 1000,\n",
       " 'max_noise_level_db': 40.0,\n",
       " 'radiator_size_mm': 360,\n",
       " 'preferred_color': [<cooler_colour.white: 'White'>,\n",
       "  <cooler_colour.silver: 'Silver'>],\n",
       " 'min_rating': 4.0,\n",
       " 'max_price': 250.0}"
      ]
     },
     "execution_count": 49,
     "metadata": {},
     "output_type": "execute_result"
    }
   ],
   "source": [
    "cooler_requirements"
   ]
  },
  {
   "cell_type": "code",
   "execution_count": 50,
   "metadata": {},
   "outputs": [
    {
     "data": {
      "text/plain": [
       "{'min_capacity_gb': 1000,\n",
       " 'preferred_type': [<storage_type.ssd: 'SSD'>],\n",
       " 'min_cache_mb': 2048,\n",
       " 'preferred_form_factor': [<storage_form_factor.m.2_2280: 'M.2-2280'>],\n",
       " 'preferred_interface': [<storage_interface.m.2_pcie_4.0_x4: 'M.2 PCIe 4.0 X4'>],\n",
       " 'min_rating': 4.5,\n",
       " 'max_price_per_gb': 0.2}"
      ]
     },
     "execution_count": 50,
     "metadata": {},
     "output_type": "execute_result"
    }
   ],
   "source": [
    "storage_requirements"
   ]
  },
  {
   "cell_type": "code",
   "execution_count": 51,
   "metadata": {},
   "outputs": [
    {
     "data": {
      "text/plain": [
       "{'min_capacity_gb': 16,\n",
       " 'min_speed_mhz': 3000,\n",
       " 'preferred_module_count': 2,\n",
       " 'max_cas_latency': 16.0,\n",
       " 'preferred_color': [<memory_colour.multicolor: 'Multicolor'>,\n",
       "  <memory_colour.blue: 'Blue'>,\n",
       "  <memory_colour.white: 'White'>],\n",
       " 'min_rating': 4.0,\n",
       " 'max_price_per_gb': 10.0}"
      ]
     },
     "execution_count": 51,
     "metadata": {},
     "output_type": "execute_result"
    }
   ],
   "source": [
    "memory_requirements"
   ]
  },
  {
   "cell_type": "code",
   "execution_count": 52,
   "metadata": {},
   "outputs": [
    {
     "data": {
      "text/plain": [
       "{'preferred_socket': [<motherboard_socket.lga1700: 'LGA1700'>],\n",
       " 'preferred_form_factor': [<motherboard_form_factor.atx: 'ATX'>],\n",
       " 'min_max_memory_gb': 64,\n",
       " 'min_memory_slots': 4,\n",
       " 'preferred_color': [<motherboard_clour.black: 'Black'>,\n",
       "  <motherboard_clour.silver: 'Silver'>],\n",
       " 'min_rating': 4.5,\n",
       " 'max_price': 350.0}"
      ]
     },
     "execution_count": 52,
     "metadata": {},
     "output_type": "execute_result"
    }
   ],
   "source": [
    "motherboard_requirements"
   ]
  },
  {
   "cell_type": "code",
   "execution_count": 60,
   "metadata": {},
   "outputs": [],
   "source": [
    "with open('./requirements/cpu_requirements.json', 'w') as f:\n",
    "    json.dump(cpu_requirements, f, default=lambda x: x._name_)\n",
    "with open('./requirements/cooler_requirements.json', 'w') as f:\n",
    "    json.dump(cooler_requirements, f, default=lambda x: x._name_)\n",
    "with open('./requirements/storage_requirements.json', 'w') as f:\n",
    "    json.dump(storage_requirements, f, default=lambda x: x._name_)\n",
    "with open('./requirements/memory_requirements.json', 'w') as f:\n",
    "    json.dump(memory_requirements, f, default=lambda x: x._name_)\n",
    "with open('./requirements/motherboard_requirements.json', 'w') as f:\n",
    "    json.dump(motherboard_requirements, f, default=lambda x: x._name_)"
   ]
  },
  {
   "cell_type": "code",
   "execution_count": 57,
   "metadata": {},
   "outputs": [
    {
     "data": {
      "text/plain": [
       "'{\"min_cores\": 4, \"min_core_clock_ghz\": 3.0, \"min_boost_clock_ghz\": 4.0, \"microarchitecture\": [\"zen_4\", \"raptor_lake\"], \"max_tdp_watts\": 125, \"needs_integrated_graphics\": false, \"min_rating\": 4.5, \"max_price\": 800.0}'"
      ]
     },
     "execution_count": 57,
     "metadata": {},
     "output_type": "execute_result"
    }
   ],
   "source": [
    "json.dumps(cpu_requirements, default=lambda x: x._name_)"
   ]
  }
 ],
 "metadata": {
  "kernelspec": {
   "display_name": "base",
   "language": "python",
   "name": "python3"
  },
  "language_info": {
   "codemirror_mode": {
    "name": "ipython",
    "version": 3
   },
   "file_extension": ".py",
   "mimetype": "text/x-python",
   "name": "python",
   "nbconvert_exporter": "python",
   "pygments_lexer": "ipython3",
   "version": "3.11.8"
  }
 },
 "nbformat": 4,
 "nbformat_minor": 2
}
