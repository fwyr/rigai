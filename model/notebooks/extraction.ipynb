{
 "cells": [
  {
   "cell_type": "code",
   "execution_count": 1,
   "metadata": {},
   "outputs": [
    {
     "name": "stdout",
     "output_type": "stream",
     "text": [
      "Groq client initialised.\n"
     ]
    }
   ],
   "source": [
    "# main libraries\n",
    "import os\n",
    "import json\n",
    "import numpy as np\n",
    "import pandas as pd\n",
    "from dotenv import load_dotenv\n",
    "from groq import Groq\n",
    "\n",
    "# typing and classes\n",
    "import instructor\n",
    "from pydantic import BaseModel, Field\n",
    "from typing import Optional, Literal, List\n",
    "from enum import Enum \n",
    "\n",
    "# constants\n",
    "load_dotenv(\"../.env\")\n",
    "GROQ_KEY = os.getenv(\"GROQ_KEY\")\n",
    "MODEL = \"llama-3.3-70b-versatile\"\n",
    "\n",
    "# initialisation of model\n",
    "client = Groq(api_key=GROQ_KEY)\n",
    "client = instructor.from_groq(client, mode=instructor.Mode.JSON)\n",
    "print(\"Groq client initialised.\")"
   ]
  },
  {
   "cell_type": "code",
   "execution_count": 2,
   "metadata": {},
   "outputs": [],
   "source": [
    "'''\n",
    "Enumerations needed:\n",
    "- CPU (microarchitectures, integrated_graphics)\n",
    "- Cooler (color)\n",
    "- Internal Hard Drive (type, form_factor, interface)\n",
    "- Memory (color)\n",
    "- Motherboard (cpu_socket, form_factor, colour)\n",
    "'''\n",
    "\n",
    "def create_enum_from_list(enum_name: str, values: list):\n",
    "    enum_dict = {v.lower().replace(\" \", \"_\").replace(\"+\", \"plus\").replace(\"-\", \"_\"): v for v in values}\n",
    "    return Enum(enum_name, enum_dict)\n",
    "\n",
    "cpu_df = pd.read_csv(\"../../data/cpu.csv\")\n",
    "cooler_df = pd.read_csv(\"../../data/cooler.csv\")\n",
    "storage_df = pd.read_csv(\"../../data/storage.csv\")\n",
    "memory_df = pd.read_csv(\"../../data/memory.csv\")\n",
    "motherboard_df = pd.read_csv(\"../../data/motherboard.csv\")\n",
    "\n",
    "CPU_MICROARCHITECTURES = sorted(cpu_df['microarchitecture'].dropna().unique().tolist())\n",
    "CPU_GRAPHICS = sorted(cpu_df['integrated_graphics'].dropna().unique().tolist())\n",
    "COOLER_COLOURS = sorted(cooler_df['color'].dropna().unique().tolist())\n",
    "STORAGE_TYPES = sorted(storage_df['type'].dropna().unique().tolist())\n",
    "STORAGE_FORM_FACTORS = sorted(storage_df['form_factor'].dropna().unique().tolist())\n",
    "STORAGE_INTERFACES = sorted(storage_df['interface'].dropna().unique().tolist())\n",
    "MEMORY_COLOURS = sorted(memory_df['color'].dropna().unique().tolist())\n",
    "MOTHERBOARD_SOCKETS = sorted(motherboard_df['cpu_socket'].dropna().unique().tolist())\n",
    "MOTHERBOARD_FORM_FACTORS = sorted(motherboard_df['form_factor'].dropna().unique().tolist())\n",
    "MOTHERBOARD_COLOURS = sorted(motherboard_df['color'].dropna().unique().tolist())\n",
    "\n",
    "# further processing\n",
    "def get_colours(colour_array: List) -> List:\n",
    "    l = [list(map(str.strip, entry.split('/'))) for entry in colour_array]\n",
    "    l = list(set(np.hstack([x for x in l])))\n",
    "    return l\n",
    "\n",
    "COOLER_COLOURS = get_colours(COOLER_COLOURS)\n",
    "MEMORY_COLOURS = get_colours(MEMORY_COLOURS)\n",
    "MOTHERBOARD_COLOURS = get_colours(MOTHERBOARD_COLOURS)\n",
    "\n",
    "Microarchitecture = create_enum_from_list(\"microarchitecture\", CPU_MICROARCHITECTURES)\n",
    "IntegratedGraphics = create_enum_from_list(\"IntegratedGraphics\", CPU_GRAPHICS)\n",
    "CoolerColour = create_enum_from_list(\"cooler_colour\", COOLER_COLOURS)\n",
    "StorageType = create_enum_from_list(\"storage_type\", STORAGE_TYPES)\n",
    "StorageFormFactor = create_enum_from_list(\"storage_form_factor\", STORAGE_FORM_FACTORS)\n",
    "StorageInterface = create_enum_from_list(\"storage_interface\", STORAGE_INTERFACES)\n",
    "MemoryColour = create_enum_from_list(\"memory_colour\", MEMORY_COLOURS)\n",
    "MotherboardSocket = create_enum_from_list(\"motherboard_socket\", MOTHERBOARD_SOCKETS)\n",
    "MotherboardFormFactor = create_enum_from_list(\"motherboard_form_factor\", MOTHERBOARD_FORM_FACTORS)\n",
    "MotherboardColour = create_enum_from_list(\"motherboard_clour\", MOTHERBOARD_COLOURS)"
   ]
  },
  {
   "cell_type": "code",
   "execution_count": 3,
   "metadata": {},
   "outputs": [],
   "source": [
    "class CPURequirements(BaseModel):\n",
    "    min_cores: Optional[int] = Field(None, description=\"Minimum number of CPU cores desired\")\n",
    "    min_core_clock_ghz: Optional[float] = Field(None, description=\"Minimum core clock speed (in GHz)\")\n",
    "    min_boost_clock_ghz: Optional[float] = Field(None, description=\"Minimum boost clock speed (in GHz)\")\n",
    "    microarchitecture: Optional[List[Microarchitecture]] = Field(None, description=\"Preferred CPU microarchitecture, e.g., ['Zen 4', 'Raptor Lake'])\")\n",
    "    max_tdp_watts: Optional[int] = Field(None, description=\"Maximum thermal design power (in watts)\")\n",
    "    #needs_integrated_graphics: Optional[bool] = Field(None, description=\"Whether integrated graphics are required\")\n",
    "    #min_rating: Optional[float] = Field(None, description=\"Minimum user rating (out of 5)\")\n",
    "    max_price: Optional[float] = Field(None, description=\"Maximum budget for CPU (in USD)\")\n",
    "\n",
    "class CoolerRequirements(BaseModel):\n",
    "    min_fan_rpm: Optional[int] = Field(None, description=\"Minimum fan RPM for cooling performance\")\n",
    "    max_noise_level_db: Optional[float] = Field(None, description=\"Desired maximum noise level in decibels\")\n",
    "    max_radiator_size_mm: Optional[int] = Field(None, description=\"Maximum radiator size in mm (e.g. 240, 360)\")\n",
    "    #preferred_color: Optional[List[CoolerColour]] = Field(None, description=\"Preferred cooler colors\")\n",
    "    #min_rating: Optional[float] = Field(None, description=\"Minimum user rating (out of 5)\")\n",
    "    max_price: Optional[float] = Field(None, description=\"Maximum budget for cooler (in USD)\")\n",
    "\n",
    "class StorageRequirements(BaseModel):\n",
    "    min_capacity_gb: Optional[int] = Field(None, description=\"Minimum storage capacity in GB\")\n",
    "    preferred_type: Optional[List[StorageType]] = Field(None, description=\"Drive type (e.g. ['SSD', 'HDD'])\")\n",
    "    min_cache_gb: Optional[float] = Field(None, description=\"Minimum cache size in GB (e.g. 2.048, 0.512) (this should be a small number)\")\n",
    "    preferred_form_factor: Optional[List[StorageFormFactor]] = Field(None, description=\"Preferred drive form factor (e.g. ['2.5', 'M.2'])\")\n",
    "    preferred_interface: Optional[List[StorageInterface]] = Field(None, description=\"Preferred interface (e.g. ['SATA, NVMe'])\")\n",
    "    #min_rating: Optional[float] = Field(None, description=\"Minimum user rating (out of 5)\")\n",
    "    max_price_per_gb: Optional[float] = Field(None, description=\"Maximum budget for drive for each gigabyte (in USD)\")\n",
    "\n",
    "class MemoryRequirements(BaseModel):\n",
    "    min_capacity_gb: Optional[int] = Field(None, description=\"Minimum total memory capacity in GB\")\n",
    "    min_speed_mhz: Optional[int] = Field(None, description=\"Minimum memory speed in MHz\")\n",
    "    preferred_module_count: Optional[int] = Field(None, description=\"Preferred number of modules (e.g. 2 for dual-channel)\")\n",
    "    max_cas_latency: Optional[float] = Field(None, description=\"Maximum acceptable CAS latency\")\n",
    "    #max_first_word_latency: Optional[float] = Field(None, description=\"Maximum acceptable first-word latency (in ns)\")\n",
    "    #preferred_color: Optional[List[MemoryColour]] = Field(None, description=\"Preferred memory colors\")\n",
    "    #min_rating: Optional[float] = Field(None, description=\"Minimum user rating (out of 5)\")\n",
    "    max_price: Optional[float] = Field(None, description=\"Maximum budget for memory (in USD)\")\n",
    "\n",
    "class MotherboardRequirements(BaseModel):\n",
    "    preferred_socket: Optional[List[MotherboardSocket]] = Field(None, description=\"CPU socket type required (e.g. AM5, LGA1700)\")\n",
    "    preferred_form_factor: Optional[List[MotherboardFormFactor]] = Field(None, description=\"Motherboard form factor (e.g. ATX, Micro ATX)\")\n",
    "    min_max_memory_gb: Optional[int] = Field(None, description=\"Minimum supported max memory in GB\")\n",
    "    min_memory_slots: Optional[int] = Field(None, description=\"Minimum number of memory slots\")\n",
    "    #preferred_color: Optional[List[MotherboardColour]] = Field(None, description=\"Preferred motherboard color\")\n",
    "    #min_rating: Optional[float] = Field(None, description=\"Minimum user rating (out of 5)\")\n",
    "    max_price: Optional[float] = Field(None, description=\"Maximum budget for case (in USD)\")\n",
    "\n",
    "class PCRequirements(BaseModel):\n",
    "    cpu: CPURequirements = Field(None, description=\"Details of preferred CPU\")\n",
    "    cooler: CoolerRequirements = Field(None, description=\"Details of preferred CPU cooler\")\n",
    "    storage: StorageRequirements = Field(None, description=\"Details of preferred internal hard drive for storage\")\n",
    "    memory: MemoryRequirements = Field(None, description=\"Details of preferred memory RAM\")\n",
    "    motherboard: MotherboardRequirements = Field(None, description=\"Details of preferred motherboard\")"
   ]
  },
  {
   "cell_type": "code",
   "execution_count": 4,
   "metadata": {},
   "outputs": [],
   "source": [
    "message = \"I want a decent PC rig that does things fast and has a lot of RAM!\"\n",
    "\n",
    "cpu_requirements = client.chat.completions.create(\n",
    "    model=MODEL,\n",
    "    response_model=CPURequirements,\n",
    "    messages=[\n",
    "        {\"role\": \"user\", \"content\": message}\n",
    "    ]\n",
    ").model_dump()\n",
    "\n",
    "cooler_requirements = client.chat.completions.create(\n",
    "    model=MODEL,\n",
    "    response_model=CoolerRequirements,\n",
    "    messages=[\n",
    "        {\"role\": \"user\", \"content\": message}\n",
    "    ]\n",
    ").model_dump()\n",
    "\n",
    "storage_requirements = client.chat.completions.create(\n",
    "    model=MODEL,\n",
    "    response_model=StorageRequirements,\n",
    "    messages=[\n",
    "        {\"role\": \"user\", \"content\": message}\n",
    "    ]\n",
    ").model_dump()\n",
    "\n",
    "memory_requirements = client.chat.completions.create(\n",
    "    model=MODEL,\n",
    "    response_model=MemoryRequirements,\n",
    "    messages=[\n",
    "        {\"role\": \"user\", \"content\": message}\n",
    "    ]\n",
    ").model_dump()\n",
    "\n",
    "motherboard_requirements = client.chat.completions.create(\n",
    "    model=MODEL,\n",
    "    response_model=MotherboardRequirements,\n",
    "    messages=[\n",
    "        {\"role\": \"user\", \"content\": message}\n",
    "    ]\n",
    ").model_dump()"
   ]
  },
  {
   "cell_type": "code",
   "execution_count": 5,
   "metadata": {},
   "outputs": [
    {
     "data": {
      "text/plain": [
       "{'min_cores': 8,\n",
       " 'min_core_clock_ghz': 3.5,\n",
       " 'min_boost_clock_ghz': 4.5,\n",
       " 'microarchitecture': [<microarchitecture.zen_4: 'Zen 4'>,\n",
       "  <microarchitecture.raptor_lake: 'Raptor Lake'>],\n",
       " 'max_tdp_watts': 170,\n",
       " 'max_price': 800.0}"
      ]
     },
     "execution_count": 5,
     "metadata": {},
     "output_type": "execute_result"
    }
   ],
   "source": [
    "cpu_requirements"
   ]
  },
  {
   "cell_type": "code",
   "execution_count": 6,
   "metadata": {},
   "outputs": [
    {
     "data": {
      "text/plain": [
       "{'min_fan_rpm': 1000,\n",
       " 'max_noise_level_db': 40.0,\n",
       " 'max_radiator_size_mm': 360,\n",
       " 'max_price': 150.0}"
      ]
     },
     "execution_count": 6,
     "metadata": {},
     "output_type": "execute_result"
    }
   ],
   "source": [
    "cooler_requirements"
   ]
  },
  {
   "cell_type": "code",
   "execution_count": 7,
   "metadata": {},
   "outputs": [
    {
     "data": {
      "text/plain": [
       "{'min_capacity_gb': 1024,\n",
       " 'preferred_type': [<storage_type.ssd: 'SSD'>],\n",
       " 'min_cache_gb': 2.0,\n",
       " 'preferred_form_factor': [<storage_form_factor.m.2_2280: 'M.2-2280'>],\n",
       " 'preferred_interface': [<storage_interface.m.2_pcie_4.0_x4: 'M.2 PCIe 4.0 X4'>],\n",
       " 'max_price_per_gb': 0.1}"
      ]
     },
     "execution_count": 7,
     "metadata": {},
     "output_type": "execute_result"
    }
   ],
   "source": [
    "storage_requirements"
   ]
  },
  {
   "cell_type": "code",
   "execution_count": 8,
   "metadata": {},
   "outputs": [
    {
     "data": {
      "text/plain": [
       "{'min_capacity_gb': 16,\n",
       " 'min_speed_mhz': 3200,\n",
       " 'preferred_module_count': 2,\n",
       " 'max_cas_latency': 18.0,\n",
       " 'max_price': 200.0}"
      ]
     },
     "execution_count": 8,
     "metadata": {},
     "output_type": "execute_result"
    }
   ],
   "source": [
    "memory_requirements"
   ]
  },
  {
   "cell_type": "code",
   "execution_count": 9,
   "metadata": {},
   "outputs": [
    {
     "data": {
      "text/plain": [
       "{'preferred_socket': [<motherboard_socket.lga1700: 'LGA1700'>,\n",
       "  <motherboard_socket.am5: 'AM5'>],\n",
       " 'preferred_form_factor': [<motherboard_form_factor.atx: 'ATX'>,\n",
       "  <motherboard_form_factor.micro_atx: 'Micro ATX'>],\n",
       " 'min_max_memory_gb': 128,\n",
       " 'min_memory_slots': 4,\n",
       " 'max_price': 800.0}"
      ]
     },
     "execution_count": 9,
     "metadata": {},
     "output_type": "execute_result"
    }
   ],
   "source": [
    "motherboard_requirements"
   ]
  },
  {
   "cell_type": "code",
   "execution_count": 10,
   "metadata": {},
   "outputs": [
    {
     "data": {
      "text/plain": [
       "{'cpu': {'min_cores': 8,\n",
       "  'min_core_clock_ghz': 3.5,\n",
       "  'min_boost_clock_ghz': 4.5,\n",
       "  'microarchitecture': [<microarchitecture.zen_4: 'Zen 4'>,\n",
       "   <microarchitecture.raptor_lake: 'Raptor Lake'>],\n",
       "  'max_tdp_watts': 125,\n",
       "  'max_price': 500.0},\n",
       " 'cooler': {'min_fan_rpm': 1000,\n",
       "  'max_noise_level_db': 30.0,\n",
       "  'max_radiator_size_mm': 360,\n",
       "  'max_price': 100.0},\n",
       " 'storage': {'min_capacity_gb': 1000,\n",
       "  'preferred_type': [<storage_type.ssd: 'SSD'>],\n",
       "  'min_cache_gb': 2.048,\n",
       "  'preferred_form_factor': [<storage_form_factor.m.2_2280: 'M.2-2280'>],\n",
       "  'preferred_interface': [<storage_interface.m.2_pcie_4.0_x4: 'M.2 PCIe 4.0 X4'>],\n",
       "  'max_price_per_gb': 0.1},\n",
       " 'memory': {'min_capacity_gb': 32,\n",
       "  'min_speed_mhz': 3200,\n",
       "  'preferred_module_count': 4,\n",
       "  'max_cas_latency': 16.0,\n",
       "  'max_price': 200.0},\n",
       " 'motherboard': {'preferred_socket': [<motherboard_socket.am5: 'AM5'>,\n",
       "   <motherboard_socket.lga1700: 'LGA1700'>],\n",
       "  'preferred_form_factor': [<motherboard_form_factor.atx: 'ATX'>],\n",
       "  'min_max_memory_gb': 128,\n",
       "  'min_memory_slots': 4,\n",
       "  'max_price': 300.0}}"
      ]
     },
     "execution_count": 10,
     "metadata": {},
     "output_type": "execute_result"
    }
   ],
   "source": [
    "pc_requirements = client.chat.completions.create(\n",
    "    model=MODEL,\n",
    "    response_model=PCRequirements,\n",
    "    messages=[\n",
    "        {\"role\": \"user\", \"content\": message}\n",
    "    ]\n",
    ").model_dump()\n",
    "\n",
    "pc_requirements"
   ]
  },
  {
   "cell_type": "code",
   "execution_count": 11,
   "metadata": {},
   "outputs": [
    {
     "data": {
      "text/plain": [
       "[{'min_cores': 8,\n",
       "  'min_core_clock_ghz': 3.5,\n",
       "  'min_boost_clock_ghz': 4.5,\n",
       "  'microarchitecture': [<microarchitecture.zen_4: 'Zen 4'>,\n",
       "   <microarchitecture.raptor_lake: 'Raptor Lake'>],\n",
       "  'max_tdp_watts': 125,\n",
       "  'max_price': 500.0},\n",
       " {'min_fan_rpm': 1000,\n",
       "  'max_noise_level_db': 30.0,\n",
       "  'max_radiator_size_mm': 360,\n",
       "  'max_price': 100.0},\n",
       " {'min_capacity_gb': 1000,\n",
       "  'preferred_type': [<storage_type.ssd: 'SSD'>],\n",
       "  'min_cache_gb': 2.048,\n",
       "  'preferred_form_factor': [<storage_form_factor.m.2_2280: 'M.2-2280'>],\n",
       "  'preferred_interface': [<storage_interface.m.2_pcie_4.0_x4: 'M.2 PCIe 4.0 X4'>],\n",
       "  'max_price_per_gb': 0.1},\n",
       " {'min_capacity_gb': 32,\n",
       "  'min_speed_mhz': 3200,\n",
       "  'preferred_module_count': 4,\n",
       "  'max_cas_latency': 16.0,\n",
       "  'max_price': 200.0},\n",
       " {'preferred_socket': [<motherboard_socket.am5: 'AM5'>,\n",
       "   <motherboard_socket.lga1700: 'LGA1700'>],\n",
       "  'preferred_form_factor': [<motherboard_form_factor.atx: 'ATX'>],\n",
       "  'min_max_memory_gb': 128,\n",
       "  'min_memory_slots': 4,\n",
       "  'max_price': 300.0}]"
      ]
     },
     "execution_count": 11,
     "metadata": {},
     "output_type": "execute_result"
    }
   ],
   "source": [
    "[pc_requirements[x] for x in pc_requirements.keys()]"
   ]
  },
  {
   "cell_type": "code",
   "execution_count": 12,
   "metadata": {},
   "outputs": [
    {
     "ename": "FileNotFoundError",
     "evalue": "[Errno 2] No such file or directory: './requirements/cpu_requirements.json'",
     "output_type": "error",
     "traceback": [
      "\u001b[0;31m---------------------------------------------------------------------------\u001b[0m",
      "\u001b[0;31mFileNotFoundError\u001b[0m                         Traceback (most recent call last)",
      "Cell \u001b[0;32mIn[12], line 1\u001b[0m\n\u001b[0;32m----> 1\u001b[0m \u001b[38;5;28;01mwith\u001b[39;00m \u001b[38;5;28;43mopen\u001b[39;49m\u001b[43m(\u001b[49m\u001b[38;5;124;43m'\u001b[39;49m\u001b[38;5;124;43m./requirements/cpu_requirements.json\u001b[39;49m\u001b[38;5;124;43m'\u001b[39;49m\u001b[43m,\u001b[49m\u001b[43m \u001b[49m\u001b[38;5;124;43m'\u001b[39;49m\u001b[38;5;124;43mw\u001b[39;49m\u001b[38;5;124;43m'\u001b[39;49m\u001b[43m)\u001b[49m \u001b[38;5;28;01mas\u001b[39;00m f:\n\u001b[1;32m      2\u001b[0m     json\u001b[38;5;241m.\u001b[39mdump(cpu_requirements, f, default\u001b[38;5;241m=\u001b[39m\u001b[38;5;28;01mlambda\u001b[39;00m x: x\u001b[38;5;241m.\u001b[39m_name_)\n\u001b[1;32m      3\u001b[0m \u001b[38;5;28;01mwith\u001b[39;00m \u001b[38;5;28mopen\u001b[39m(\u001b[38;5;124m'\u001b[39m\u001b[38;5;124m./requirements/cooler_requirements.json\u001b[39m\u001b[38;5;124m'\u001b[39m, \u001b[38;5;124m'\u001b[39m\u001b[38;5;124mw\u001b[39m\u001b[38;5;124m'\u001b[39m) \u001b[38;5;28;01mas\u001b[39;00m f:\n",
      "File \u001b[0;32m/opt/miniconda3/lib/python3.11/site-packages/IPython/core/interactiveshell.py:284\u001b[0m, in \u001b[0;36m_modified_open\u001b[0;34m(file, *args, **kwargs)\u001b[0m\n\u001b[1;32m    277\u001b[0m \u001b[38;5;28;01mif\u001b[39;00m file \u001b[38;5;129;01min\u001b[39;00m {\u001b[38;5;241m0\u001b[39m, \u001b[38;5;241m1\u001b[39m, \u001b[38;5;241m2\u001b[39m}:\n\u001b[1;32m    278\u001b[0m     \u001b[38;5;28;01mraise\u001b[39;00m \u001b[38;5;167;01mValueError\u001b[39;00m(\n\u001b[1;32m    279\u001b[0m         \u001b[38;5;124mf\u001b[39m\u001b[38;5;124m\"\u001b[39m\u001b[38;5;124mIPython won\u001b[39m\u001b[38;5;124m'\u001b[39m\u001b[38;5;124mt let you open fd=\u001b[39m\u001b[38;5;132;01m{\u001b[39;00mfile\u001b[38;5;132;01m}\u001b[39;00m\u001b[38;5;124m by default \u001b[39m\u001b[38;5;124m\"\u001b[39m\n\u001b[1;32m    280\u001b[0m         \u001b[38;5;124m\"\u001b[39m\u001b[38;5;124mas it is likely to crash IPython. If you know what you are doing, \u001b[39m\u001b[38;5;124m\"\u001b[39m\n\u001b[1;32m    281\u001b[0m         \u001b[38;5;124m\"\u001b[39m\u001b[38;5;124myou can use builtins\u001b[39m\u001b[38;5;124m'\u001b[39m\u001b[38;5;124m open.\u001b[39m\u001b[38;5;124m\"\u001b[39m\n\u001b[1;32m    282\u001b[0m     )\n\u001b[0;32m--> 284\u001b[0m \u001b[38;5;28;01mreturn\u001b[39;00m \u001b[43mio_open\u001b[49m\u001b[43m(\u001b[49m\u001b[43mfile\u001b[49m\u001b[43m,\u001b[49m\u001b[43m \u001b[49m\u001b[38;5;241;43m*\u001b[39;49m\u001b[43margs\u001b[49m\u001b[43m,\u001b[49m\u001b[43m \u001b[49m\u001b[38;5;241;43m*\u001b[39;49m\u001b[38;5;241;43m*\u001b[39;49m\u001b[43mkwargs\u001b[49m\u001b[43m)\u001b[49m\n",
      "\u001b[0;31mFileNotFoundError\u001b[0m: [Errno 2] No such file or directory: './requirements/cpu_requirements.json'"
     ]
    }
   ],
   "source": [
    "with open('./requirements/cpu_requirements.json', 'w') as f:\n",
    "    json.dump(cpu_requirements, f, default=lambda x: x._name_)\n",
    "with open('./requirements/cooler_requirements.json', 'w') as f:\n",
    "    json.dump(cooler_requirements, f, default=lambda x: x._name_)\n",
    "with open('./requirements/storage_requirements.json', 'w') as f:\n",
    "    json.dump(storage_requirements, f, default=lambda x: x._name_)\n",
    "with open('./requirements/memory_requirements.json', 'w') as f:\n",
    "    json.dump(memory_requirements, f, default=lambda x: x._name_)\n",
    "with open('./requirements/motherboard_requirements.json', 'w') as f:\n",
    "    json.dump(motherboard_requirements, f, default=lambda x: x._name_)"
   ]
  }
 ],
 "metadata": {
  "kernelspec": {
   "display_name": "base",
   "language": "python",
   "name": "python3"
  },
  "language_info": {
   "codemirror_mode": {
    "name": "ipython",
    "version": 3
   },
   "file_extension": ".py",
   "mimetype": "text/x-python",
   "name": "python",
   "nbconvert_exporter": "python",
   "pygments_lexer": "ipython3",
   "version": "3.11.8"
  }
 },
 "nbformat": 4,
 "nbformat_minor": 2
}
